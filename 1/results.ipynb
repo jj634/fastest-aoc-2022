{
 "cells": [
  {
   "cell_type": "code",
   "execution_count": null,
   "metadata": {},
   "outputs": [],
   "source": [
    "from helpers import benchmark\n",
    "from jason import solution_pt1 as jason_solution_pt1, solution_pt2 as jason_solution_pt2\n",
    "from alan import solution_pt1 as alan_solution_pt1, solution_pt2 as alan_solution_pt2\n",
    "from manav import solution_pt1 as manav_solution_pt1, solution_pt2 as manav_solution_pt2\n",
    "%run chris.ipynb"
   ]
  },
  {
   "cell_type": "code",
   "execution_count": null,
   "metadata": {},
   "outputs": [],
   "source": [
    "print(\"--- PART ONE ---\")\n",
    "print(\"Jason:\", end =\" \")\n",
    "benchmark(jason_solution_pt1)\n",
    "print(\"Alan:\", end =\" \")\n",
    "benchmark(alan_solution_pt1)\n",
    "print(\"Chris:\", end =\" \")\n",
    "benchmark(chris_solution_pt1)\n",
    "print(\"Manav:\", end =\" \")\n",
    "benchmark(manav_solution_pt1)"
   ]
  },
  {
   "cell_type": "code",
   "execution_count": null,
   "metadata": {},
   "outputs": [],
   "source": [
    "print(\"--- PART TWO ---\")\n",
    "print(\"Jason:\", end =\" \")\n",
    "benchmark(jason_solution_pt2)\n",
    "print(\"Alan:\", end =\" \")\n",
    "benchmark(alan_solution_pt2)\n",
    "print(\"Chris:\", end =\" \")\n",
    "benchmark(chris_solution_pt2)\n",
    "print(\"Manav:\", end =\" \")\n",
    "benchmark(manav_solution_pt2)"
   ]
  }
 ],
 "metadata": {
  "kernelspec": {
   "display_name": "Python 3.7.6 64-bit",
   "language": "python",
   "name": "python37664bit17fe8d03911d459091d06194831eb076"
  },
  "language_info": {
   "codemirror_mode": {
    "name": "ipython",
    "version": 3
   },
   "file_extension": ".py",
   "mimetype": "text/x-python",
   "name": "python",
   "nbconvert_exporter": "python",
   "pygments_lexer": "ipython3",
   "version": "3.7.6"
  }
 },
 "nbformat": 4,
 "nbformat_minor": 2
}
